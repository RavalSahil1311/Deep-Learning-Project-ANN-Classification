{
 "cells": [
  {
   "cell_type": "code",
   "execution_count": 5,
   "id": "9205080e",
   "metadata": {},
   "outputs": [],
   "source": [
    "import pandas as pd\n",
    "from sklearn.preprocessing import StandardScaler, OneHotEncoder, LabelEncoder\n",
    "from sklearn.model_selection import train_test_split, GridSearchCV\n",
    "from sklearn.pipeline import Pipeline\n",
    "from scikeras.wrappers import KerasClassifier\n",
    "import pickle\n",
    "\n",
    "import tensorflow as tf\n",
    "from tensorflow.keras.models import Sequential\n",
    "from tensorflow.keras.layers import Dense"
   ]
  },
  {
   "cell_type": "code",
   "execution_count": 9,
   "id": "23240614",
   "metadata": {},
   "outputs": [],
   "source": [
    "data = pd.read_csv(\"Churn_Modelling.csv\")\n",
    "\n",
    "\n",
    "label_encoder_gender = LabelEncoder()\n",
    "data[\"Gender\"] = label_encoder_gender.fit_transform(data[\"Gender\"])\n",
    "\n",
    "onehot_encoder_geo = OneHotEncoder()\n",
    "geo_encoder = onehot_encoder_geo.fit_transform(data[[\"Geography\"]])\n",
    "\n",
    "geo_encoded_df = pd.DataFrame(\n",
    "    geo_encoder.toarray(),\n",
    "    columns=onehot_encoder_geo.get_feature_names_out([\"Geography\"]),\n",
    ")\n",
    "\n",
    "final_df = pd.concat([data.drop(\"Geography\", axis=1), geo_encoded_df], axis=1)\n",
    "\n",
    "final_df = final_df.drop(\n",
    "    [\"RowNumber\", \"CustomerId\", \"Surname\"],\n",
    "    axis=1,\n",
    ")\n",
    "X = final_df.drop(\"Exited\", axis=1)\n",
    "y = final_df[\"Exited\"]"
   ]
  },
  {
   "cell_type": "code",
   "execution_count": 12,
   "id": "440ef272",
   "metadata": {},
   "outputs": [],
   "source": [
    "X_train, X_test, y_train, y_test = train_test_split(\n",
    "    X, y, test_size=0.2, random_state=42\n",
    ")\n",
    "\n",
    "scaler = StandardScaler()\n",
    "\n",
    "X_train = scaler.fit_transform(X_train)\n",
    "X_test = scaler.transform(X_test)"
   ]
  },
  {
   "cell_type": "code",
   "execution_count": 21,
   "id": "68469a83",
   "metadata": {},
   "outputs": [],
   "source": [
    "def create_model(neurons=32, layers=1):\n",
    "    model = Sequential()\n",
    "    model.add(Dense(neurons, activation=\"relu\", input_shape=(X_train.shape[1],)))\n",
    "    for _ in range(layers - 1):\n",
    "        model.add(Dense(neurons, activation=\"relu\"))\n",
    "\n",
    "    model.add(Dense(1, activation=\"sigmoid\"))\n",
    "    model.compile(optimizer=\"adam\", loss=\"binary_crossentropy\", metrics=[\"accuracy\"])\n",
    "    return model"
   ]
  },
  {
   "cell_type": "code",
   "execution_count": 22,
   "id": "1b85cd20",
   "metadata": {},
   "outputs": [],
   "source": [
    "model = KerasClassifier(\n",
    "    build_fn=create_model, neurons=32, layers=1, epochs=50, batch_size=10, verbose=0\n",
    ")"
   ]
  },
  {
   "cell_type": "code",
   "execution_count": 23,
   "id": "6247bdc6",
   "metadata": {},
   "outputs": [],
   "source": [
    "param_grid = {\n",
    "    \"neurons\": [16, 32, 64, 128],\n",
    "    \"layers\": [1, 2, 3],\n",
    "    \"epochs\": [50, 100],\n",
    "}"
   ]
  },
  {
   "cell_type": "code",
   "execution_count": 24,
   "id": "1d9c4ea6",
   "metadata": {},
   "outputs": [
    {
     "name": "stderr",
     "output_type": "stream",
     "text": [
      "c:\\Users\\SahilRaval\\Desktop\\Code\\Personal\\ANN Classification\\venv\\Lib\\site-packages\\scikeras\\wrappers.py:925: UserWarning: ``build_fn`` will be renamed to ``model`` in a future release, at which point use of ``build_fn`` will raise an Error instead.\n",
      "  X, y = self._initialize(X, y)\n",
      "c:\\Users\\SahilRaval\\Desktop\\Code\\Personal\\ANN Classification\\venv\\Lib\\site-packages\\keras\\src\\layers\\core\\dense.py:92: UserWarning: Do not pass an `input_shape`/`input_dim` argument to a layer. When using Sequential models, prefer using an `Input(shape)` object as the first layer in the model instead.\n",
      "  super().__init__(activity_regularizer=activity_regularizer, **kwargs)\n"
     ]
    },
    {
     "name": "stdout",
     "output_type": "stream",
     "text": [
      "Best: 0.8586243861302784 using {'epochs': 50, 'layers': 2, 'neurons': 16}\n"
     ]
    }
   ],
   "source": [
    "grid = GridSearchCV(estimator=model, param_grid=param_grid, cv=3, n_jobs=-1)\n",
    "grid_result = grid.fit(X_train, y_train)\n",
    "\n",
    "print(f\"Best: {grid_result.best_score_} using {grid_result.best_params_}\")"
   ]
  },
  {
   "cell_type": "code",
   "execution_count": null,
   "id": "1218b52a",
   "metadata": {},
   "outputs": [],
   "source": []
  }
 ],
 "metadata": {
  "kernelspec": {
   "display_name": "venv",
   "language": "python",
   "name": "python3"
  },
  "language_info": {
   "codemirror_mode": {
    "name": "ipython",
    "version": 3
   },
   "file_extension": ".py",
   "mimetype": "text/x-python",
   "name": "python",
   "nbconvert_exporter": "python",
   "pygments_lexer": "ipython3",
   "version": "3.13.1"
  }
 },
 "nbformat": 4,
 "nbformat_minor": 5
}
